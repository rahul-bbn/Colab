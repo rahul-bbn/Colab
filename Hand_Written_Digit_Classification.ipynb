{
  "nbformat": 4,
  "nbformat_minor": 0,
  "metadata": {
    "colab": {
      "provenance": [],
      "authorship_tag": "ABX9TyNRytoeIwCfXx8vE7fkFu09",
      "include_colab_link": true
    },
    "kernelspec": {
      "name": "python3",
      "display_name": "Python 3"
    },
    "language_info": {
      "name": "python"
    }
  },
  "cells": [
    {
      "cell_type": "markdown",
      "metadata": {
        "id": "view-in-github",
        "colab_type": "text"
      },
      "source": [
        "<a href=\"https://colab.research.google.com/github/rahul-bbn/Colab/blob/main/Hand_Written_Digit_Classification.ipynb\" target=\"_parent\"><img src=\"https://colab.research.google.com/assets/colab-badge.svg\" alt=\"Open In Colab\"/></a>"
      ]
    },
    {
      "cell_type": "code",
      "execution_count": 16,
      "metadata": {
        "id": "gvVDIe4Rh7ub"
      },
      "outputs": [],
      "source": [
        "import pandas as pd"
      ]
    },
    {
      "cell_type": "code",
      "source": [
        "import numpy as np"
      ],
      "metadata": {
        "id": "vFLeqjaKnBp6"
      },
      "execution_count": 17,
      "outputs": []
    },
    {
      "cell_type": "code",
      "source": [
        "import matplotlib.pyplot as plt"
      ],
      "metadata": {
        "id": "JQ3pbGDnnAMW"
      },
      "execution_count": 18,
      "outputs": []
    },
    {
      "cell_type": "code",
      "source": [
        "from sklearn.datasets import load_digits"
      ],
      "metadata": {
        "id": "e8skZdfRm-yB"
      },
      "execution_count": 19,
      "outputs": []
    },
    {
      "cell_type": "code",
      "source": [
        "df = load_digits()"
      ],
      "metadata": {
        "id": "OxrIGo8km83r"
      },
      "execution_count": 20,
      "outputs": []
    },
    {
      "cell_type": "code",
      "source": [
        "_, axes = plt.subplots(nrows=1 , ncols=4, figsize=(10,3))\n",
        "for ax, image, label in zip(axes, df.images, df.target):\n",
        "    ax.set_axis_off()\n",
        "    ax.imshow(image, cmap=plt.cm.gray_r, interpolation=\"nearest\")\n",
        "    ax.set_title(\"Training: %i\" % label)"
      ],
      "metadata": {
        "colab": {
          "base_uri": "https://localhost:8080/",
          "height": 227
        },
        "id": "peDAIG5PmueP",
        "outputId": "d28f6612-4f50-4372-8a9b-05c0ff4ded34"
      },
      "execution_count": 21,
      "outputs": [
        {
          "output_type": "display_data",
          "data": {
            "text/plain": [
              "<Figure size 1000x300 with 4 Axes>"
            ],
            "image/png": "[encoded data removed]"
          },
          "metadata": {}
        }
      ]
    },
    {
      "cell_type": "code",
      "source": [
        "df.images.shape"
      ],
      "metadata": {
        "colab": {
          "base_uri": "https://localhost:8080/"
        },
        "id": "Ipk5M8f1mnJ1",
        "outputId": "2e93a8a6-aab5-4c71-bbce-cc35d5218ba8"
      },
      "execution_count": 22,
      "outputs": [
        {
          "output_type": "execute_result",
          "data": {
            "text/plain": [
              "(1797, 8, 8)"
            ]
          },
          "metadata": {},
          "execution_count": 22
        }
      ]
    },
    {
      "cell_type": "code",
      "source": [
        "df.images[0]"
      ],
      "metadata": {
        "colab": {
          "base_uri": "https://localhost:8080/"
        },
        "id": "FMB2BPqTnQjG",
        "outputId": "617f0059-8dc3-432a-feca-f1f970c466f1"
      },
      "execution_count": 23,
      "outputs": [
        {
          "output_type": "execute_result",
          "data": {
            "text/plain": [
              "array([[ 0.,  0.,  5., 13.,  9.,  1.,  0.,  0.],\n",
              "       [ 0.,  0., 13., 15., 10., 15.,  5.,  0.],\n",
              "       [ 0.,  3., 15.,  2.,  0., 11.,  8.,  0.],\n",
              "       [ 0.,  4., 12.,  0.,  0.,  8.,  8.,  0.],\n",
              "       [ 0.,  5.,  8.,  0.,  0.,  9.,  8.,  0.],\n",
              "       [ 0.,  4., 11.,  0.,  1., 12.,  7.,  0.],\n",
              "       [ 0.,  2., 14.,  5., 10., 12.,  0.,  0.],\n",
              "       [ 0.,  0.,  6., 13., 10.,  0.,  0.,  0.]])"
            ]
          },
          "metadata": {},
          "execution_count": 23
        }
      ]
    },
    {
      "cell_type": "code",
      "source": [
        "df.images[0].shape"
      ],
      "metadata": {
        "colab": {
          "base_uri": "https://localhost:8080/"
        },
        "id": "57YAQdwEnd6W",
        "outputId": "568acad5-1c4b-4ca1-c719-a7ec3a6a9068"
      },
      "execution_count": 24,
      "outputs": [
        {
          "output_type": "execute_result",
          "data": {
            "text/plain": [
              "(8, 8)"
            ]
          },
          "metadata": {},
          "execution_count": 24
        }
      ]
    },
    {
      "cell_type": "code",
      "source": [
        "len(df.images)"
      ],
      "metadata": {
        "colab": {
          "base_uri": "https://localhost:8080/"
        },
        "id": "M97oKRw1nlOx",
        "outputId": "3154f068-80ce-4d5b-b843-319536966434"
      },
      "execution_count": 25,
      "outputs": [
        {
          "output_type": "execute_result",
          "data": {
            "text/plain": [
              "1797"
            ]
          },
          "metadata": {},
          "execution_count": 25
        }
      ]
    },
    {
      "cell_type": "code",
      "source": [
        "n_sample = len(df.images)\n",
        "data = df.images.reshape((n_sample, -1))"
      ],
      "metadata": {
        "id": "KoyXRIQ6nuiU"
      },
      "execution_count": 26,
      "outputs": []
    },
    {
      "cell_type": "code",
      "source": [
        "data[0]"
      ],
      "metadata": {
        "colab": {
          "base_uri": "https://localhost:8080/"
        },
        "id": "fhKduzXgoR3u",
        "outputId": "67ad89ec-ecdb-46be-8ae5-5f8ccfa6553a"
      },
      "execution_count": 27,
      "outputs": [
        {
          "output_type": "execute_result",
          "data": {
            "text/plain": [
              "array([ 0.,  0.,  5., 13.,  9.,  1.,  0.,  0.,  0.,  0., 13., 15., 10.,\n",
              "       15.,  5.,  0.,  0.,  3., 15.,  2.,  0., 11.,  8.,  0.,  0.,  4.,\n",
              "       12.,  0.,  0.,  8.,  8.,  0.,  0.,  5.,  8.,  0.,  0.,  9.,  8.,\n",
              "        0.,  0.,  4., 11.,  0.,  1., 12.,  7.,  0.,  0.,  2., 14.,  5.,\n",
              "       10., 12.,  0.,  0.,  0.,  0.,  6., 13., 10.,  0.,  0.,  0.])"
            ]
          },
          "metadata": {},
          "execution_count": 27
        }
      ]
    },
    {
      "cell_type": "code",
      "source": [
        "data[0].shape"
      ],
      "metadata": {
        "colab": {
          "base_uri": "https://localhost:8080/"
        },
        "id": "78pFuARAolb2",
        "outputId": "9ebabe3d-8950-4d77-8bc8-b2f55e77f40d"
      },
      "execution_count": 28,
      "outputs": [
        {
          "output_type": "execute_result",
          "data": {
            "text/plain": [
              "(64,)"
            ]
          },
          "metadata": {},
          "execution_count": 28
        }
      ]
    },
    {
      "cell_type": "code",
      "source": [
        "data.shape"
      ],
      "metadata": {
        "colab": {
          "base_uri": "https://localhost:8080/"
        },
        "id": "6HiHlNV-os49",
        "outputId": "91d3e6fe-1881-4018-e4b0-0b8471ba67a7"
      },
      "execution_count": 29,
      "outputs": [
        {
          "output_type": "execute_result",
          "data": {
            "text/plain": [
              "(1797, 64)"
            ]
          },
          "metadata": {},
          "execution_count": 29
        }
      ]
    },
    {
      "cell_type": "code",
      "source": [
        "data.min()"
      ],
      "metadata": {
        "colab": {
          "base_uri": "https://localhost:8080/"
        },
        "id": "L5xUfg3ko0DK",
        "outputId": "958f163b-9eee-4270-8176-3a1b9f970ffe"
      },
      "execution_count": 31,
      "outputs": [
        {
          "output_type": "execute_result",
          "data": {
            "text/plain": [
              "0.0"
            ]
          },
          "metadata": {},
          "execution_count": 31
        }
      ]
    },
    {
      "cell_type": "code",
      "source": [
        "data.max()"
      ],
      "metadata": {
        "colab": {
          "base_uri": "https://localhost:8080/"
        },
        "id": "D2EdYKPko_E-",
        "outputId": "cabda13f-52f6-4fdc-828d-b58c1bb05f49"
      },
      "execution_count": 32,
      "outputs": [
        {
          "output_type": "execute_result",
          "data": {
            "text/plain": [
              "16.0"
            ]
          },
          "metadata": {},
          "execution_count": 32
        }
      ]
    },
    {
      "cell_type": "code",
      "source": [
        "data = data/16"
      ],
      "metadata": {
        "id": "_FfabQM-pCr0"
      },
      "execution_count": 33,
      "outputs": []
    },
    {
      "cell_type": "code",
      "source": [
        "data.min()"
      ],
      "metadata": {
        "colab": {
          "base_uri": "https://localhost:8080/"
        },
        "id": "uixI_6-QpKhO",
        "outputId": "a52a9ff4-d401-4610-cbf3-6c28da09dd98"
      },
      "execution_count": 34,
      "outputs": [
        {
          "output_type": "execute_result",
          "data": {
            "text/plain": [
              "0.0"
            ]
          },
          "metadata": {},
          "execution_count": 34
        }
      ]
    },
    {
      "cell_type": "code",
      "source": [
        "data.max()"
      ],
      "metadata": {
        "colab": {
          "base_uri": "https://localhost:8080/"
        },
        "id": "TvFkxAj9pOeu",
        "outputId": "fd299c41-3a95-4a07-d89f-de5ef700df6e"
      },
      "execution_count": 35,
      "outputs": [
        {
          "output_type": "execute_result",
          "data": {
            "text/plain": [
              "1.0"
            ]
          },
          "metadata": {},
          "execution_count": 35
        }
      ]
    },
    {
      "cell_type": "code",
      "source": [
        "data[0]"
      ],
      "metadata": {
        "colab": {
          "base_uri": "https://localhost:8080/"
        },
        "id": "nXR41MhEpTaC",
        "outputId": "8cf17b5f-2a56-4efe-dace-22cc3da6d2d6"
      },
      "execution_count": 36,
      "outputs": [
        {
          "output_type": "execute_result",
          "data": {
            "text/plain": [
              "array([0.    , 0.    , 0.3125, 0.8125, 0.5625, 0.0625, 0.    , 0.    ,\n",
              "       0.    , 0.    , 0.8125, 0.9375, 0.625 , 0.9375, 0.3125, 0.    ,\n",
              "       0.    , 0.1875, 0.9375, 0.125 , 0.    , 0.6875, 0.5   , 0.    ,\n",
              "       0.    , 0.25  , 0.75  , 0.    , 0.    , 0.5   , 0.5   , 0.    ,\n",
              "       0.    , 0.3125, 0.5   , 0.    , 0.    , 0.5625, 0.5   , 0.    ,\n",
              "       0.    , 0.25  , 0.6875, 0.    , 0.0625, 0.75  , 0.4375, 0.    ,\n",
              "       0.    , 0.125 , 0.875 , 0.3125, 0.625 , 0.75  , 0.    , 0.    ,\n",
              "       0.    , 0.    , 0.375 , 0.8125, 0.625 , 0.    , 0.    , 0.    ])"
            ]
          },
          "metadata": {},
          "execution_count": 36
        }
      ]
    },
    {
      "cell_type": "code",
      "source": [
        "from sklearn.model_selection import train_test_split"
      ],
      "metadata": {
        "id": "JDv2trHMpgQs"
      },
      "execution_count": 37,
      "outputs": []
    },
    {
      "cell_type": "code",
      "source": [
        "X_train, X_test, y_train, y_test = train_test_split(data, df.target, test_size=0.3)"
      ],
      "metadata": {
        "id": "1YmZx4PRpn_t"
      },
      "execution_count": 38,
      "outputs": []
    },
    {
      "cell_type": "code",
      "source": [
        "X_train.shape, X_test.shape, y_train.shape, y_test.shape"
      ],
      "metadata": {
        "colab": {
          "base_uri": "https://localhost:8080/"
        },
        "id": "yYO3wAePqFEQ",
        "outputId": "9d279aa7-7aab-4590-ffd9-d3990f88e0c8"
      },
      "execution_count": 39,
      "outputs": [
        {
          "output_type": "execute_result",
          "data": {
            "text/plain": [
              "((1257, 64), (540, 64), (1257,), (540,))"
            ]
          },
          "metadata": {},
          "execution_count": 39
        }
      ]
    },
    {
      "cell_type": "code",
      "source": [
        "from sklearn.ensemble import RandomForestClassifier"
      ],
      "metadata": {
        "id": "JWk7sIDGqb7C"
      },
      "execution_count": 40,
      "outputs": []
    },
    {
      "cell_type": "code",
      "source": [
        "rf = RandomForestClassifier()"
      ],
      "metadata": {
        "id": "BGJtvoe9qprn"
      },
      "execution_count": 41,
      "outputs": []
    },
    {
      "cell_type": "code",
      "source": [
        "rf.fit(X_train, y_train)"
      ],
      "metadata": {
        "colab": {
          "base_uri": "https://localhost:8080/",
          "height": 75
        },
        "id": "iQ69CJMGqt3q",
        "outputId": "59980a49-8fbd-47ae-cf4f-3b6bf2895bec"
      },
      "execution_count": 42,
      "outputs": [
        {
          "output_type": "execute_result",
          "data": {
            "text/plain": [
              "RandomForestClassifier()"
            ],
            "text/html": [
              "<style>#sk-container-id-1 {color: black;background-color: white;}#sk-container-id-1 pre{padding: 0;}#sk-container-id-1 div.sk-toggleable {background-color: white;}#sk-container-id-1 label.sk-toggleable__label {cursor: pointer;display: block;width: 100%;margin-bottom: 0;padding: 0.3em;box-sizing: border-box;text-align: center;}#sk-container-id-1 label.sk-toggleable__label-arrow:before {content: \"▸\";float: left;margin-right: 0.25em;color: #696969;}#sk-container-id-1 label.sk-toggleable__label-arrow:hover:before {color: black;}#sk-container-id-1 div.sk-estimator:hover label.sk-toggleable__label-arrow:before {color: black;}#sk-container-id-1 div.sk-toggleable__content {max-height: 0;max-width: 0;overflow: hidden;text-align: left;background-color: #f0f8ff;}#sk-container-id-1 div.sk-toggleable__content pre {margin: 0.2em;color: black;border-radius: 0.25em;background-color: #f0f8ff;}#sk-container-id-1 input.sk-toggleable__control:checked~div.sk-toggleable__content {max-height: 200px;max-width: 100%;overflow: auto;}#sk-container-id-1 input.sk-toggleable__control:checked~label.sk-toggleable__label-arrow:before {content: \"▾\";}#sk-container-id-1 div.sk-estimator input.sk-toggleable__control:checked~label.sk-toggleable__label {background-color: #d4ebff;}#sk-container-id-1 div.sk-label input.sk-toggleable__control:checked~label.sk-toggleable__label {background-color: #d4ebff;}#sk-container-id-1 input.sk-hidden--visually {border: 0;clip: rect(1px 1px 1px 1px);clip: rect(1px, 1px, 1px, 1px);height: 1px;margin: -1px;overflow: hidden;padding: 0;position: absolute;width: 1px;}#sk-container-id-1 div.sk-estimator {font-family: monospace;background-color: #f0f8ff;border: 1px dotted black;border-radius: 0.25em;box-sizing: border-box;margin-bottom: 0.5em;}#sk-container-id-1 div.sk-estimator:hover {background-color: #d4ebff;}#sk-container-id-1 div.sk-parallel-item::after {content: \"\";width: 100%;border-bottom: 1px solid gray;flex-grow: 1;}#sk-container-id-1 div.sk-label:hover label.sk-toggleable__label {background-color: #d4ebff;}#sk-container-id-1 div.sk-serial::before {content: \"\";position: absolute;border-left: 1px solid gray;box-sizing: border-box;top: 0;bottom: 0;left: 50%;z-index: 0;}#sk-container-id-1 div.sk-serial {display: flex;flex-direction: column;align-items: center;background-color: white;padding-right: 0.2em;padding-left: 0.2em;position: relative;}#sk-container-id-1 div.sk-item {position: relative;z-index: 1;}#sk-container-id-1 div.sk-parallel {display: flex;align-items: stretch;justify-content: center;background-color: white;position: relative;}#sk-container-id-1 div.sk-item::before, #sk-container-id-1 div.sk-parallel-item::before {content: \"\";position: absolute;border-left: 1px solid gray;box-sizing: border-box;top: 0;bottom: 0;left: 50%;z-index: -1;}#sk-container-id-1 div.sk-parallel-item {display: flex;flex-direction: column;z-index: 1;position: relative;background-color: white;}#sk-container-id-1 div.sk-parallel-item:first-child::after {align-self: flex-end;width: 50%;}#sk-container-id-1 div.sk-parallel-item:last-child::after {align-self: flex-start;width: 50%;}#sk-container-id-1 div.sk-parallel-item:only-child::after {width: 0;}#sk-container-id-1 div.sk-dashed-wrapped {border: 1px dashed gray;margin: 0 0.4em 0.5em 0.4em;box-sizing: border-box;padding-bottom: 0.4em;background-color: white;}#sk-container-id-1 div.sk-label label {font-family: monospace;font-weight: bold;display: inline-block;line-height: 1.2em;}#sk-container-id-1 div.sk-label-container {text-align: center;}#sk-container-id-1 div.sk-container {/* jupyter's `normalize.less` sets `[hidden] { display: none; }` but bootstrap.min.css set `[hidden] { display: none !important; }` so we also need the `!important` here to be able to override the default hidden behavior on the sphinx rendered scikit-learn.org. See: https://github.com/scikit-learn/scikit-learn/issues/21755 */display: inline-block !important;position: relative;}#sk-container-id-1 div.sk-text-repr-fallback {display: none;}</style><div id=\"sk-container-id-1\" class=\"sk-top-container\"><div class=\"sk-text-repr-fallback\"><pre>RandomForestClassifier()</pre><b>In a Jupyter environment, please rerun this cell to show the HTML representation or trust the notebook. <br />On GitHub, the HTML representation is unable to render, please try loading this page with nbviewer.org.</b></div><div class=\"sk-container\" hidden><div class=\"sk-item\"><div class=\"sk-estimator sk-toggleable\"><input class=\"sk-toggleable__control sk-hidden--visually\" id=\"sk-estimator-id-1\" type=\"checkbox\" checked><label for=\"sk-estimator-id-1\" class=\"sk-toggleable__label sk-toggleable__label-arrow\">RandomForestClassifier</label><div class=\"sk-toggleable__content\"><pre>RandomForestClassifier()</pre></div></div></div></div></div>"
            ]
          },
          "metadata": {},
          "execution_count": 42
        }
      ]
    },
    {
      "cell_type": "code",
      "source": [
        "y_pred = rf.predict(X_test)"
      ],
      "metadata": {
        "id": "sfK70JG6rAAx"
      },
      "execution_count": 43,
      "outputs": []
    },
    {
      "cell_type": "code",
      "source": [
        "y_pred"
      ],
      "metadata": {
        "colab": {
          "base_uri": "https://localhost:8080/"
        },
        "id": "zQAjjyx5rGeA",
        "outputId": "93f273c3-0e31-4b67-b000-e881ea79b798"
      },
      "execution_count": 44,
      "outputs": [
        {
          "output_type": "execute_result",
          "data": {
            "text/plain": [
              "array([0, 5, 9, 3, 9, 3, 1, 1, 2, 1, 0, 6, 4, 3, 0, 2, 4, 5, 0, 5, 0, 7,\n",
              "       8, 8, 0, 3, 5, 6, 9, 0, 6, 8, 5, 1, 4, 7, 4, 0, 5, 7, 6, 4, 0, 4,\n",
              "       2, 0, 7, 4, 2, 0, 8, 3, 0, 6, 3, 9, 2, 2, 1, 6, 3, 0, 5, 3, 4, 6,\n",
              "       8, 2, 3, 8, 4, 2, 2, 8, 5, 1, 5, 1, 4, 1, 6, 5, 0, 1, 9, 7, 2, 0,\n",
              "       9, 7, 8, 8, 5, 8, 8, 4, 1, 0, 2, 4, 8, 6, 9, 3, 2, 5, 7, 8, 4, 8,\n",
              "       2, 6, 2, 0, 7, 8, 2, 3, 8, 2, 2, 8, 2, 8, 9, 1, 3, 7, 5, 7, 8, 3,\n",
              "       4, 6, 2, 2, 3, 7, 3, 7, 4, 5, 6, 0, 9, 0, 6, 9, 9, 3, 1, 1, 9, 0,\n",
              "       5, 4, 7, 6, 7, 6, 9, 9, 7, 5, 2, 7, 7, 7, 3, 4, 1, 3, 7, 3, 5, 0,\n",
              "       7, 9, 0, 1, 0, 9, 9, 0, 6, 8, 5, 0, 7, 8, 2, 0, 6, 5, 0, 9, 3, 9,\n",
              "       5, 0, 1, 4, 7, 9, 8, 7, 0, 5, 4, 3, 3, 1, 1, 3, 0, 9, 0, 3, 9, 5,\n",
              "       9, 7, 8, 6, 0, 7, 7, 3, 0, 8, 8, 0, 6, 7, 1, 3, 8, 7, 2, 4, 8, 2,\n",
              "       2, 5, 6, 4, 9, 8, 4, 3, 8, 1, 4, 8, 4, 0, 0, 2, 2, 9, 7, 7, 3, 4,\n",
              "       1, 4, 1, 9, 3, 7, 1, 0, 7, 9, 3, 3, 5, 3, 6, 8, 2, 6, 1, 8, 2, 2,\n",
              "       7, 4, 3, 1, 2, 9, 2, 9, 9, 2, 4, 8, 4, 5, 3, 4, 0, 1, 3, 5, 5, 6,\n",
              "       2, 2, 4, 3, 1, 6, 9, 0, 7, 8, 8, 9, 2, 6, 4, 9, 9, 7, 4, 9, 4, 5,\n",
              "       4, 6, 2, 6, 3, 1, 6, 9, 8, 5, 4, 1, 0, 7, 2, 6, 1, 6, 3, 9, 2, 4,\n",
              "       5, 6, 3, 1, 1, 3, 1, 5, 7, 9, 7, 8, 3, 3, 7, 5, 2, 2, 2, 2, 6, 6,\n",
              "       4, 9, 2, 2, 8, 0, 5, 5, 9, 6, 6, 9, 2, 5, 3, 1, 3, 2, 6, 6, 1, 4,\n",
              "       4, 2, 5, 6, 6, 8, 4, 5, 5, 6, 0, 1, 3, 6, 1, 2, 7, 4, 3, 5, 6, 2,\n",
              "       5, 9, 6, 5, 3, 2, 9, 8, 8, 4, 9, 8, 8, 7, 4, 6, 3, 0, 7, 2, 6, 1,\n",
              "       9, 8, 1, 1, 2, 6, 1, 2, 7, 5, 1, 1, 6, 6, 7, 2, 9, 5, 0, 5, 8, 2,\n",
              "       0, 8, 3, 8, 9, 8, 6, 5, 7, 7, 7, 7, 6, 8, 6, 7, 1, 1, 3, 9, 1, 6,\n",
              "       5, 0, 3, 3, 1, 0, 8, 4, 6, 2, 6, 7, 3, 7, 0, 0, 5, 5, 0, 1, 8, 9,\n",
              "       0, 4, 6, 9, 6, 1, 6, 4, 9, 5, 2, 2, 8, 9, 6, 2, 2, 7, 4, 1, 5, 1,\n",
              "       9, 0, 3, 8, 5, 6, 2, 5, 3, 1, 0, 8])"
            ]
          },
          "metadata": {},
          "execution_count": 44
        }
      ]
    },
    {
      "cell_type": "code",
      "source": [
        "from sklearn.metrics import confusion_matrix, classification_report"
      ],
      "metadata": {
        "id": "hZDwD8DXri9m"
      },
      "execution_count": 45,
      "outputs": []
    },
    {
      "cell_type": "code",
      "source": [
        "confusion_matrix(y_test, y_pred)"
      ],
      "metadata": {
        "colab": {
          "base_uri": "https://localhost:8080/"
        },
        "id": "zVzfHY4sr2gY",
        "outputId": "bf9f5b9c-4d5d-4c1a-e62b-67e2c4b0cfb9"
      },
      "execution_count": 46,
      "outputs": [
        {
          "output_type": "execute_result",
          "data": {
            "text/plain": [
              "array([[52,  0,  0,  0,  1,  0,  0,  0,  0,  0],\n",
              "       [ 0, 51,  0,  0,  0,  0,  0,  0,  0,  0],\n",
              "       [ 0,  0, 61,  0,  0,  0,  0,  0,  1,  0],\n",
              "       [ 0,  0,  0, 54,  0,  0,  0,  0,  0,  0],\n",
              "       [ 0,  0,  0,  0, 47,  0,  0,  1,  0,  0],\n",
              "       [ 0,  0,  0,  0,  0, 50,  0,  0,  0,  2],\n",
              "       [ 1,  0,  0,  0,  0,  1, 59,  0,  0,  0],\n",
              "       [ 0,  0,  0,  0,  0,  0,  0, 49,  0,  0],\n",
              "       [ 0,  1,  1,  0,  0,  0,  0,  1, 53,  2],\n",
              "       [ 0,  0,  0,  1,  0,  1,  0,  1,  0, 49]])"
            ]
          },
          "metadata": {},
          "execution_count": 46
        }
      ]
    },
    {
      "cell_type": "code",
      "source": [
        "print(classification_report(y_test, y_pred))"
      ],
      "metadata": {
        "colab": {
          "base_uri": "https://localhost:8080/"
        },
        "id": "i-y1iBJgsDX-",
        "outputId": "0f03a035-2f71-4208-f498-1d89f4fb8dc6"
      },
      "execution_count": 48,
      "outputs": [
        {
          "output_type": "stream",
          "name": "stdout",
          "text": [
            "              precision    recall  f1-score   support\n",
            "\n",
            "           0       0.98      0.98      0.98        53\n",
            "           1       0.98      1.00      0.99        51\n",
            "           2       0.98      0.98      0.98        62\n",
            "           3       0.98      1.00      0.99        54\n",
            "           4       0.98      0.98      0.98        48\n",
            "           5       0.96      0.96      0.96        52\n",
            "           6       1.00      0.97      0.98        61\n",
            "           7       0.94      1.00      0.97        49\n",
            "           8       0.98      0.91      0.95        58\n",
            "           9       0.92      0.94      0.93        52\n",
            "\n",
            "    accuracy                           0.97       540\n",
            "   macro avg       0.97      0.97      0.97       540\n",
            "weighted avg       0.97      0.97      0.97       540\n",
            "\n"
          ]
        }
      ]
    }
  ]
}